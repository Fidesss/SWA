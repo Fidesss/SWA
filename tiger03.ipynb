{
 "cells": [
  {
   "cell_type": "code",
   "execution_count": 1,
   "id": "cb7b05a2-13b5-40d4-9f7c-8da27cbaa18e",
   "metadata": {},
   "outputs": [
    {
     "name": "stdout",
     "output_type": "stream",
     "text": [
      "Requirement already satisfied: requests in c:\\users\\admin\\miniconda3\\envs\\tiger-env\\lib\\site-packages (2.32.3)\n",
      "Requirement already satisfied: charset-normalizer<4,>=2 in c:\\users\\admin\\miniconda3\\envs\\tiger-env\\lib\\site-packages (from requests) (3.3.2)\n",
      "Requirement already satisfied: idna<4,>=2.5 in c:\\users\\admin\\miniconda3\\envs\\tiger-env\\lib\\site-packages (from requests) (3.7)\n",
      "Requirement already satisfied: urllib3<3,>=1.21.1 in c:\\users\\admin\\miniconda3\\envs\\tiger-env\\lib\\site-packages (from requests) (2.3.0)\n",
      "Requirement already satisfied: certifi>=2017.4.17 in c:\\users\\admin\\miniconda3\\envs\\tiger-env\\lib\\site-packages (from requests) (2025.1.31)\n"
     ]
    }
   ],
   "source": [
    "!pip install requests"
   ]
  },
  {
   "cell_type": "code",
   "execution_count": 7,
   "id": "0800e4c8-3a7b-46de-be5d-6212af6ea4f8",
   "metadata": {},
   "outputs": [
    {
     "name": "stdout",
     "output_type": "stream",
     "text": [
      "https://www.yes24.com/Product/Search?domain=BOOK&query=9791190090018\n",
      "<Response [200]> <class 'requests.models.Response'>\n",
      "<class 'str'>\n"
     ]
    }
   ],
   "source": [
    "import requests\n",
    "isbn = 9791190090018\n",
    "url = 'https://www.yes24.com/Product/Search?domain=BOOK&query={}'\n",
    "print(url.format(9791190090018))\n",
    "r = requests.get(\"https://www.yes24.com/Product/Search?domain=BOOK&query=9791190090018\")\n",
    "print(r, type(r))\n",
    "#print(r.text) #f12 개발자모드로 보았을때의 코드를 모두 긁어옴\n",
    "print(type(r.text)) # 어떤 타입으로 되어있는지를 확인"
   ]
  },
  {
   "cell_type": "code",
   "execution_count": 10,
   "id": "329e967b-2fed-4834-8459-066b4c8617c1",
   "metadata": {},
   "outputs": [],
   "source": [
    "#body >> \n",
    "#yesWrap >> \n",
    "#ySchContSec >>\n",
    "#sGoodsWrap >> \n",
    "#sGoodsSec >>\n",
    "#goodsListWrap >> \n",
    "#sGoodsSecArea >> \n",
    "#yesSchList >> \n",
    "#<li data-goods-no=\"74261416\">  >> \n",
    "#itemUnit >> \n",
    "#item_info >>\n",
    "#class=\"info_row info_name\" >> \n",
    "#gd_name \n",
    "\n",
    "#함수를 확인할때 괄호를 확인하는 것처럼 점차 안쪽으로 들어가는 키워드"
   ]
  },
  {
   "cell_type": "code",
   "execution_count": 30,
   "id": "5e8b1212-5ba8-4006-86ff-d1ebdef59b82",
   "metadata": {},
   "outputs": [
    {
     "name": "stdout",
     "output_type": "stream",
     "text": [
      "<class 'bs4.BeautifulSoup'>\n",
      "<class 'bs4.element.Tag'>\n",
      "<a class=\"gd_name\" href=\"/Product/Goods/74261416\" onclick=\"wiseLogV2('S', '101_005_003_001', ''); setGoodsClickExtraCodeHub('032', '9791190090018', '74261416', '0',this);\">[예스리커버] 우리가 빛의 속도로 갈 수 없다면</a>\n",
      "------------\n",
      "------------\n",
      "/Product/Goods/74261416 <class 'str'>\n",
      "applebanana\n",
      "https://www.yes24.com/Product/Goods/74261416\n"
     ]
    }
   ],
   "source": [
    "from bs4 import BeautifulSoup\n",
    "soup = BeautifulSoup( r.text, 'html.parser')\n",
    "print(type(soup))\n",
    "prd_link = soup.find('a', attrs={'class':'gd_name'}) # a태그에서 gd_name을 찾음\n",
    "print(type(prd_link))\n",
    "print(prd_link)\n",
    "print(\"------------\")\n",
    "print(\"------------\")\n",
    "print(prd_link['href'], type(prd_link['href'])) # 내부적으로 dictionary로 저장되는데 href의 value값을 알고싶을때 이렇게 사용\n",
    "a = \"apple\" + \"banana\"\n",
    "print(a)\n",
    "url = \"https://www.yes24.com\" + prd_link['href'] # 이런식으로 정보를 찾고 가공하여 산출물로 링크를 내보낼수 있음을 확인\n",
    "print(url)"
   ]
  }
 ],
 "metadata": {
  "kernelspec": {
   "display_name": "Python 3 (ipykernel)",
   "language": "python",
   "name": "python3"
  },
  "language_info": {
   "codemirror_mode": {
    "name": "ipython",
    "version": 3
   },
   "file_extension": ".py",
   "mimetype": "text/x-python",
   "name": "python",
   "nbconvert_exporter": "python",
   "pygments_lexer": "ipython3",
   "version": "3.10.16"
  }
 },
 "nbformat": 4,
 "nbformat_minor": 5
}
