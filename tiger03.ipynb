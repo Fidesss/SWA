{
 "cells": [
  {
   "cell_type": "code",
   "execution_count": 1,
   "id": "cb7b05a2-13b5-40d4-9f7c-8da27cbaa18e",
   "metadata": {},
   "outputs": [
    {
     "name": "stdout",
     "output_type": "stream",
     "text": [
      "Requirement already satisfied: requests in c:\\users\\admin\\miniconda3\\envs\\tiger-env\\lib\\site-packages (2.32.3)\n",
      "Requirement already satisfied: charset-normalizer<4,>=2 in c:\\users\\admin\\miniconda3\\envs\\tiger-env\\lib\\site-packages (from requests) (3.3.2)\n",
      "Requirement already satisfied: idna<4,>=2.5 in c:\\users\\admin\\miniconda3\\envs\\tiger-env\\lib\\site-packages (from requests) (3.7)\n",
      "Requirement already satisfied: urllib3<3,>=1.21.1 in c:\\users\\admin\\miniconda3\\envs\\tiger-env\\lib\\site-packages (from requests) (2.3.0)\n",
      "Requirement already satisfied: certifi>=2017.4.17 in c:\\users\\admin\\miniconda3\\envs\\tiger-env\\lib\\site-packages (from requests) (2025.1.31)\n"
     ]
    }
   ],
   "source": [
    "!pip install requests"
   ]
  },
  {
   "cell_type": "code",
   "execution_count": 7,
   "id": "0800e4c8-3a7b-46de-be5d-6212af6ea4f8",
   "metadata": {},
   "outputs": [
    {
     "name": "stdout",
     "output_type": "stream",
     "text": [
      "https://www.yes24.com/Product/Search?domain=BOOK&query=9791190090018\n",
      "<Response [200]> <class 'requests.models.Response'>\n",
      "<class 'str'>\n"
     ]
    }
   ],
   "source": [
    "import requests\n",
    "isbn = 9791190090018\n",
    "url = 'https://www.yes24.com/Product/Search?domain=BOOK&query={}'\n",
    "print(url.format(9791190090018))\n",
    "r = requests.get(\"https://www.yes24.com/Product/Search?domain=BOOK&query=9791190090018\")\n",
    "print(r, type(r))\n",
    "#print(r.text) #f12 개발자모드로 보았을때의 코드를 모두 긁어옴\n",
    "print(type(r.text)) # 어떤 타입으로 되어있는지를 확인"
   ]
  },
  {
   "cell_type": "code",
   "execution_count": 10,
   "id": "329e967b-2fed-4834-8459-066b4c8617c1",
   "metadata": {},
   "outputs": [],
   "source": [
    "#body >> \n",
    "#yesWrap >> \n",
    "#ySchContSec >>\n",
    "#sGoodsWrap >> \n",
    "#sGoodsSec >>\n",
    "#goodsListWrap >> \n",
    "#sGoodsSecArea >> \n",
    "#yesSchList >> \n",
    "#<li data-goods-no=\"74261416\">  >> \n",
    "#itemUnit >> \n",
    "#item_info >>\n",
    "#class=\"info_row info_name\" >> \n",
    "#gd_name \n",
    "\n",
    "#함수를 확인할때 괄호를 확인하는 것처럼 점차 안쪽으로 들어가는 키워드"
   ]
  },
  {
   "cell_type": "code",
   "execution_count": 38,
   "id": "5e8b1212-5ba8-4006-86ff-d1ebdef59b82",
   "metadata": {},
   "outputs": [
    {
     "name": "stdout",
     "output_type": "stream",
     "text": [
      "<class 'bs4.BeautifulSoup'>\n",
      "<class 'bs4.element.Tag'>\n",
      "<a class=\"gd_name\" href=\"/Product/Goods/74261416\" onclick=\"wiseLogV2('S', '101_005_003_001', ''); setGoodsClickExtraCodeHub('032', '9791190090018', '74261416', '0',this);\">[예스리커버] 우리가 빛의 속도로 갈 수 없다면</a>\n",
      "------------\n",
      "------------\n",
      "/Product/Goods/74261416 <class 'str'>\n",
      "applebanana\n",
      "https://www.yes24.com/Product/Goods/74261416\n",
      "------------\n",
      "------------\n",
      "result: <class 'bs4.element.Tag'>\n"
     ]
    }
   ],
   "source": [
    "from bs4 import BeautifulSoup\n",
    "soup = BeautifulSoup( r.text, 'html.parser')\n",
    "print(type(soup))\n",
    "prd_link = soup.find('a', attrs={'class':'gd_name'}) # a태그에서 gd_name을 찾음\n",
    "print(type(prd_link))\n",
    "print(prd_link)\n",
    "print(\"------------\")\n",
    "print(\"------------\")\n",
    "print(prd_link['href'], type(prd_link['href'])) # 내부적으로 dictionary로 저장되는데 href의 value값을 알고싶을때 이렇게 사용\n",
    "a = \"apple\" + \"banana\"\n",
    "print(a)\n",
    "url = \"https://www.yes24.com\" + prd_link['href'] # 이런식으로 정보를 찾고 가공하여 산출물로 링크를 내보낼수 있음을 확인\n",
    "print(url)\n",
    "print(\"------------\")\n",
    "print(\"------------\")\n",
    "r2 = requests.get(url)\n",
    "#print(r2.text)\n",
    "soup2 = BeautifulSoup(r2.text, 'html.parser')\n",
    "result = soup2.find('div', attrs={'id':'infoset_specific'})\n",
    "print('result:',type(result)) #앞에 result:라는 식별자를 붙여줌"
   ]
  },
  {
   "cell_type": "code",
   "execution_count": 42,
   "id": "1f9c19a6-65ba-40ad-9a2e-ccbdfb174120",
   "metadata": {},
   "outputs": [
    {
     "name": "stdout",
     "output_type": "stream",
     "text": [
      "<tr>\n",
      "<th class=\"txt\" scope=\"row\">발행일</th>\n",
      "<td class=\"txt lastCol\">2019년 06월 24일</td>\n",
      "</tr>\n",
      "발행일\n",
      "----------------------\n",
      "<tr>\n",
      "<th class=\"txt\" scope=\"row\">쪽수, 무게, 크기</th>\n",
      "<td class=\"txt lastCol\">330쪽 | 496g | 130*198*30mm</td>\n",
      "</tr>\n",
      "쪽수, 무게, 크기\n",
      "----------------------\n",
      "<tr>\n",
      "<th class=\"txt\" scope=\"row\">ISBN13</th>\n",
      "<td class=\"txt lastCol\">9791190090018</td>\n",
      "</tr>\n",
      "ISBN13\n",
      "----------------------\n",
      "<tr>\n",
      "<th class=\"txt\" scope=\"row\">ISBN10</th>\n",
      "<td class=\"txt lastCol\">1190090015</td>\n",
      "</tr>\n",
      "ISBN10\n",
      "----------------------\n"
     ]
    }
   ],
   "source": [
    "prd_tr_list = result.find_all('tr')\n",
    "#print(prd_tr_list[0])\n",
    "for temp in prd_tr_list:\n",
    "    print(temp)\n",
    "    print(temp.find('th').get_text())\n",
    "    print('----------------------')"
   ]
  },
  {
   "cell_type": "code",
   "execution_count": 55,
   "id": "aae9f575-3c0d-47f2-a6ec-d8ec7ec47f50",
   "metadata": {},
   "outputs": [
    {
     "ename": "NameError",
     "evalue": "name 'page_td' is not defined",
     "output_type": "error",
     "traceback": [
      "\u001b[1;31m---------------------------------------------------------------------------\u001b[0m",
      "\u001b[1;31mNameError\u001b[0m                                 Traceback (most recent call last)",
      "Cell \u001b[1;32mIn[55], line 5\u001b[0m\n\u001b[0;32m      3\u001b[0m         page_td \u001b[38;5;241m=\u001b[39m temp\u001b[38;5;241m.\u001b[39mfind(\u001b[38;5;124m'\u001b[39m\u001b[38;5;124mtd\u001b[39m\u001b[38;5;124m'\u001b[39m)\u001b[38;5;241m.\u001b[39mget_text()\n\u001b[0;32m      4\u001b[0m         \u001b[38;5;28;01mbreak\u001b[39;00m;\n\u001b[1;32m----> 5\u001b[0m \u001b[38;5;28mprint\u001b[39m(\u001b[38;5;124m'\u001b[39m\u001b[38;5;124mlast result:\u001b[39m\u001b[38;5;124m'\u001b[39m, \u001b[43mpage_td\u001b[49m, \u001b[38;5;28mtype\u001b[39m(page_td))\n\u001b[0;32m      6\u001b[0m \u001b[38;5;28mprint\u001b[39m(page_td\u001b[38;5;241m.\u001b[39msplit())\n",
      "\u001b[1;31mNameError\u001b[0m: name 'page_td' is not defined"
     ]
    }
   ],
   "source": [
    "for tem in prd_tr_list:\n",
    "    if temp.find('th').get_text() == \"쪽수, 무게, 크기\":\n",
    "        page_td = temp.find('td').get_text()\n",
    "        break;\n",
    "print('last result:', page_td, type(page_td))\n",
    "print(page_td.split())"
   ]
  },
  {
   "cell_type": "code",
   "execution_count": 57,
   "id": "84441c75-5f17-4bd5-b03d-e7d6ded05fb2",
   "metadata": {},
   "outputs": [
    {
     "name": "stdout",
     "output_type": "stream",
     "text": [
      "함수콜 9791190018\n"
     ]
    }
   ],
   "source": [
    "def tiger(isbn):\n",
    "    print('함수콜', isbn) # 함수만들어서 부르라는 건가 싶네요\n",
    "\n",
    "tiger(9791190018)"
   ]
  }
 ],
 "metadata": {
  "kernelspec": {
   "display_name": "Python 3 (ipykernel)",
   "language": "python",
   "name": "python3"
  },
  "language_info": {
   "codemirror_mode": {
    "name": "ipython",
    "version": 3
   },
   "file_extension": ".py",
   "mimetype": "text/x-python",
   "name": "python",
   "nbconvert_exporter": "python",
   "pygments_lexer": "ipython3",
   "version": "3.10.16"
  }
 },
 "nbformat": 4,
 "nbformat_minor": 5
}
